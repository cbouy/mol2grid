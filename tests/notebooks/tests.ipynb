{
 "cells": [
  {
   "cell_type": "code",
   "execution_count": null,
   "metadata": {},
   "outputs": [],
   "source": [
    "from pathlib import Path\n",
    "from time import sleep\n",
    "from IPython.display import display\n",
    "from rdkit import RDConfig\n",
    "import mols2grid\n",
    "\n",
    "assert Path(RDConfig.RDDocsDir).is_dir(), \"Test data not available!\"\n",
    "\n",
    "SDF_FILE = f\"{RDConfig.RDDocsDir}/Book/data/solubility.test.sdf\"\n",
    "\n",
    "view = mols2grid.display(SDF_FILE)\n",
    "display(view)\n",
    "# give some time for RDKit.js to load and display the mols\n",
    "sleep(5)"
   ]
  }
 ],
 "metadata": {
  "kernelspec": {
   "display_name": "Python 3 (ipykernel)",
   "language": "python",
   "name": "python3"
  },
  "language_info": {
   "codemirror_mode": {
    "name": "ipython",
    "version": 3
   },
   "file_extension": ".py",
   "mimetype": "text/x-python",
   "name": "python",
   "nbconvert_exporter": "python",
   "pygments_lexer": "ipython3",
   "version": "3.8.17"
  }
 },
 "nbformat": 4,
 "nbformat_minor": 4
}
